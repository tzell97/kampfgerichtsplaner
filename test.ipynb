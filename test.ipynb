{
 "cells": [
  {
   "cell_type": "code",
   "execution_count": 65,
   "id": "f08cf5e5",
   "metadata": {},
   "outputs": [
    {
     "name": "stdout",
     "output_type": "stream",
     "text": [
      "      Nr.   Tag               Datum                       Heim  \\\n",
      "0     5.0   1.0 2024-09-21 17:00:00         WINGS Leverkusen 2   \n",
      "2     7.0   2.0 2024-09-28 18:00:00            DJK Frankenberg   \n",
      "4    15.0   3.0 2024-10-05 18:00:00         SG Bergische Löwen   \n",
      "6    19.0   4.0 2024-11-02 20:00:00            DJK Frankenberg   \n",
      "8    30.0   5.0 2024-11-09 16:00:00    VfL AstroStars Bochum 2   \n",
      "10   31.0   6.0 2024-11-15 20:30:00            DJK Frankenberg   \n",
      "12   40.0   7.0 2024-11-30 18:30:00    New Basket Oberhausen 2   \n",
      "14   43.0   8.0 2024-12-07 20:00:00            DJK Frankenberg   \n",
      "16   50.0   9.0 2024-12-14 16:00:00                  TSV Hagen   \n",
      "18   55.0  10.0 2024-12-21 16:00:00  Citybasket Recklinghausen   \n",
      "20   61.0  11.0 2025-01-18 18:00:00            DJK Frankenberg   \n",
      "22   71.0  12.0 2025-01-25 18:00:00            DJK Frankenberg   \n",
      "24   73.0  13.0 2025-02-01 16:30:00                UBC Münster   \n",
      "26   81.0  14.0 2025-02-08 18:00:00            DJK Frankenberg   \n",
      "28   85.0  15.0 2025-02-15 18:00:00                 Hürther BC   \n",
      "30   96.0  16.0 2025-02-22 18:00:00            DJK Frankenberg   \n",
      "32   97.0  17.0 2025-03-08 18:00:00        DTV Basketball Köln   \n",
      "34  106.0  18.0 2025-03-15 20:00:00            DJK Frankenberg   \n",
      "36  109.0  19.0 2025-03-21 20:30:00     Talents BonnRhöndorf 2   \n",
      "38  116.0  20.0 2025-03-29 18:00:00            DJK Frankenberg   \n",
      "40  121.0  21.0 2025-04-05 18:00:00            DJK Frankenberg   \n",
      "42  127.0  22.0 2025-04-12 18:30:00             Gütersloher TV   \n",
      "\n",
      "                         Gast                         Spielhalle    Team  \n",
      "0             DJK Frankenberg        Werner-Heisenberg-Gymnasium  damen1  \n",
      "2                 UBC Münster        Einhard-Gymnasium (Halle 1)  damen1  \n",
      "4             DJK Frankenberg  SH des Albertus-Magnus-Gymnasiums  damen1  \n",
      "6                  Hürther BC        Einhard-Gymnasium (Halle 1)  damen1  \n",
      "8             DJK Frankenberg                 Sporthalle Lohring  damen1  \n",
      "10        DTV Basketball Köln        Einhard-Gymnasium (Halle 1)  damen1  \n",
      "12            DJK Frankenberg                             SH Ost  damen1  \n",
      "14     Talents BonnRhöndorf 2        Einhard-Gymnasium (Halle 1)  damen1  \n",
      "16            DJK Frankenberg              Sporthalle Altenhagen  damen1  \n",
      "18            DJK Frankenberg      Vestische Arena Alfons Schütt  damen1  \n",
      "20             Gütersloher TV        Einhard-Gymnasium (Halle 1)  damen1  \n",
      "22         WINGS Leverkusen 2        Einhard-Gymnasium (Halle 1)  damen1  \n",
      "24            DJK Frankenberg    Ballsporthalle Pascal-Gymnasium  damen1  \n",
      "26         SG Bergische Löwen        Einhard-Gymnasium (Halle 1)  damen1  \n",
      "28            DJK Frankenberg               Gymnasium Bonnstraße  damen1  \n",
      "30    VfL AstroStars Bochum 2        Einhard-Gymnasium (Halle 1)  damen1  \n",
      "32            DJK Frankenberg       SH des Gymnasiums Kreuzgasse  damen1  \n",
      "34    New Basket Oberhausen 2        Einhard-Gymnasium (Halle 1)  damen1  \n",
      "36            DJK Frankenberg     3-fach Sporthalle Gesamtschule  damen1  \n",
      "38                  TSV Hagen        Einhard-Gymnasium (Halle 1)  damen1  \n",
      "40  Citybasket Recklinghausen        Einhard-Gymnasium (Halle 1)  damen1  \n",
      "42            DJK Frankenberg  SH Gesamtschule an der Ahornallee  damen1  \n"
     ]
    }
   ],
   "source": [
    "##### read input data #####\n",
    "import pandas as pd \n",
    "import os\n",
    "\n",
    "schedules = {}\n",
    "for filename in os.listdir('./testdata'):\n",
    "\n",
    "    # there has been the sign \\xa0 in the test data\n",
    "    with open('./testdata/'+filename, 'r', encoding='utf-8') as file:\n",
    "        lines = file.readlines()\n",
    "    lines = [line.replace('\\xa0', '') for line in lines]\n",
    "    with open('./testdata/'+filename, 'w', encoding='utf-8') as file:\n",
    "        file.writelines(lines)\n",
    "\n",
    "    team = filename[:-4]\n",
    "    raw_df = pd.read_csv('./testdata/'+filename,sep=\";\").dropna().drop('Schiedsrichter', axis=1)\n",
    "    raw_df['Team'] = team\n",
    "    raw_df['Datum'] = pd.to_datetime(raw_df['Datum'], format='%d.%m.%Y %H:%M')\n",
    "    schedules[team] = raw_df\n",
    "\n",
    "print(schedules['damen1'])"
   ]
  },
  {
   "cell_type": "code",
   "execution_count": 66,
   "id": "3c69f864",
   "metadata": {},
   "outputs": [
    {
     "name": "stdout",
     "output_type": "stream",
     "text": [
      "      Nr.   Tag               Datum             Heim  \\\n",
      "2     7.0   2.0 2024-09-28 18:00:00  DJK Frankenberg   \n",
      "6    19.0   4.0 2024-11-02 20:00:00  DJK Frankenberg   \n",
      "10   31.0   6.0 2024-11-15 20:30:00  DJK Frankenberg   \n",
      "14   43.0   8.0 2024-12-07 20:00:00  DJK Frankenberg   \n",
      "20   61.0  11.0 2025-01-18 18:00:00  DJK Frankenberg   \n",
      "22   71.0  12.0 2025-01-25 18:00:00  DJK Frankenberg   \n",
      "26   81.0  14.0 2025-02-08 18:00:00  DJK Frankenberg   \n",
      "30   96.0  16.0 2025-02-22 18:00:00  DJK Frankenberg   \n",
      "34  106.0  18.0 2025-03-15 20:00:00  DJK Frankenberg   \n",
      "38  116.0  20.0 2025-03-29 18:00:00  DJK Frankenberg   \n",
      "40  121.0  21.0 2025-04-05 18:00:00  DJK Frankenberg   \n",
      "\n",
      "                         Gast                   Spielhalle    Team  \n",
      "2                 UBC Münster  Einhard-Gymnasium (Halle 1)  damen1  \n",
      "6                  Hürther BC  Einhard-Gymnasium (Halle 1)  damen1  \n",
      "10        DTV Basketball Köln  Einhard-Gymnasium (Halle 1)  damen1  \n",
      "14     Talents BonnRhöndorf 2  Einhard-Gymnasium (Halle 1)  damen1  \n",
      "20             Gütersloher TV  Einhard-Gymnasium (Halle 1)  damen1  \n",
      "22         WINGS Leverkusen 2  Einhard-Gymnasium (Halle 1)  damen1  \n",
      "26         SG Bergische Löwen  Einhard-Gymnasium (Halle 1)  damen1  \n",
      "30    VfL AstroStars Bochum 2  Einhard-Gymnasium (Halle 1)  damen1  \n",
      "34    New Basket Oberhausen 2  Einhard-Gymnasium (Halle 1)  damen1  \n",
      "38                  TSV Hagen  Einhard-Gymnasium (Halle 1)  damen1  \n",
      "40  Citybasket Recklinghausen  Einhard-Gymnasium (Halle 1)  damen1  \n"
     ]
    }
   ],
   "source": [
    "##### filter home schedules from schedules #####\n",
    "home_schedules = {}\n",
    "for team, schedule in schedules.items():\n",
    "    home_schedules[team] = schedule[schedule['Heim'].str.contains('DJK Frankenberg')]\n",
    "\n",
    "home_schedule = pd.concat([s for s in home_schedules.values()])\n",
    "\n",
    "print(home_schedules['damen1'])"
   ]
  },
  {
   "cell_type": "code",
   "execution_count": 67,
   "id": "123e0ca2",
   "metadata": {},
   "outputs": [
    {
     "name": "stdout",
     "output_type": "stream",
     "text": [
      "{'damen1': 11, 'damen2': 9, 'damen3': 7, 'herren1': 11, 'herren2': 8, 'u16w': 7}\n"
     ]
    }
   ],
   "source": [
    "# helping lists and dictionaries\n",
    "teams = schedules.keys()\n",
    "games = []\n",
    "for team in teams:\n",
    "    for matchday in home_schedules[team]['Tag'].to_list():\n",
    "        games.append((team, matchday))\n",
    "\n",
    "games_per_team = {}\n",
    "for team in teams:\n",
    "    games_per_team[team] = len(home_schedules[team])\n",
    "print(games_per_team)"
   ]
  },
  {
   "cell_type": "code",
   "execution_count": 68,
   "id": "e1280c5e",
   "metadata": {},
   "outputs": [
    {
     "data": {
      "text/plain": [
       "defaultdict(list,\n",
       "            {'38': [('damen1', 2.0),\n",
       "              ('damen2', 2.0),\n",
       "              ('damen3', 9.0),\n",
       "              ('herren1', 2.0)],\n",
       "             '43': [('damen1', 4.0),\n",
       "              ('damen2', 4.0),\n",
       "              ('damen3', 2.0),\n",
       "              ('herren1', 4.0),\n",
       "              ('herren2', 5.0)],\n",
       "             '45': [('damen1', 6.0),\n",
       "              ('damen2', 6.0),\n",
       "              ('damen3', 4.0),\n",
       "              ('herren1', 6.0)],\n",
       "             '48': [('damen1', 8.0),\n",
       "              ('damen2', 8.0),\n",
       "              ('damen3', 6.0),\n",
       "              ('herren1', 8.0),\n",
       "              ('herren2', 9.0)],\n",
       "             '02': [('damen1', 11.0), ('herren1', 11.0), ('herren2', 12.0)],\n",
       "             '03': [('damen1', 12.0), ('damen2', 12.0), ('herren1', 12.0)],\n",
       "             '05': [('damen1', 14.0),\n",
       "              ('damen2', 14.0),\n",
       "              ('damen3', 10.0),\n",
       "              ('herren1', 14.0),\n",
       "              ('herren2', 15.0)],\n",
       "             '07': [('damen1', 16.0),\n",
       "              ('damen2', 16.0),\n",
       "              ('herren1', 16.0),\n",
       "              ('herren2', 17.0)],\n",
       "             '10': [('damen1', 18.0), ('damen2', 18.0), ('herren1', 18.0)],\n",
       "             '12': [('damen1', 20.0),\n",
       "              ('damen2', 20.0),\n",
       "              ('damen3', 16.0),\n",
       "              ('herren1', 20.0)],\n",
       "             '13': [('damen1', 21.0), ('herren1', 21.0), ('u16w', 11.0)],\n",
       "             '14': [('damen3', 17.0)],\n",
       "             '37': [('herren2', 2.0)],\n",
       "             '39': [('herren2', 4.0), ('u16w', 3.0)],\n",
       "             '49': [('herren2', 10.0)],\n",
       "             '46': [('u16w', 1.0)],\n",
       "             '01': [('u16w', 1.0)],\n",
       "             '06': [('u16w', 6.0)],\n",
       "             '11': [('u16w', 9.0)],\n",
       "             '18': [('u16w', 12.0)]})"
      ]
     },
     "execution_count": 68,
     "metadata": {},
     "output_type": "execute_result"
    }
   ],
   "source": [
    "from collections import defaultdict\n",
    "\n",
    "games_per_week = defaultdict(list)\n",
    "for matchday, date, team in home_schedule[['Tag', 'Datum', 'Team']].values:\n",
    "    calendar_week = date.strftime('%U')\n",
    "    games_per_week[calendar_week].append((team, matchday))\n",
    "games_per_week"
   ]
  },
  {
   "cell_type": "code",
   "execution_count": 69,
   "id": "b8f0b092",
   "metadata": {},
   "outputs": [
    {
     "data": {
      "text/plain": [
       "[('damen1', 2.0),\n",
       " ('damen2', 2.0),\n",
       " ('damen1', 4.0),\n",
       " ('damen2', 4.0),\n",
       " ('damen2', 6.0),\n",
       " ('damen1', 8.0),\n",
       " ('damen2', 8.0),\n",
       " ('damen1', 11.0),\n",
       " ('damen1', 12.0),\n",
       " ('damen2', 12.0),\n",
       " ('damen1', 14.0),\n",
       " ('damen2', 14.0),\n",
       " ('damen1', 16.0),\n",
       " ('damen2', 16.0),\n",
       " ('damen1', 18.0),\n",
       " ('damen2', 18.0),\n",
       " ('damen1', 20.0),\n",
       " ('damen3', 16.0),\n",
       " ('damen1', 21.0),\n",
       " ('u16w', 11.0)]"
      ]
     },
     "execution_count": 69,
     "metadata": {},
     "output_type": "execute_result"
    }
   ],
   "source": [
    "from datetime import timedelta\n",
    "\n",
    "preferred_games_per_team = defaultdict(list)\n",
    "game_dates_per_team = {}\n",
    "assignable_dates_per_team = {}\n",
    "for team in teams:\n",
    "    for game_date in home_schedules[team]['Datum'].to_list():\n",
    "        for assignable_date, matchday, playing_team in home_schedule[home_schedule['Team'] != team][['Datum', 'Tag', 'Team']].values:\n",
    "            if abs(game_date - assignable_date) <= timedelta(hours=3):\n",
    "                preferred_games_per_team[team].append((playing_team, matchday))\n",
    "\n",
    "preferred_games_per_team['herren1']"
   ]
  },
  {
   "cell_type": "code",
   "execution_count": 70,
   "id": "5899c21e",
   "metadata": {},
   "outputs": [
    {
     "name": "stdout",
     "output_type": "stream",
     "text": [
      "Team damen3 is assigned to game ('damen1', 2.0)\n",
      "Team herren1 is assigned to game ('damen1', 4.0)\n",
      "Team u16w is assigned to game ('damen1', 6.0)\n",
      "Team herren1 is assigned to game ('damen1', 8.0)\n",
      "Team herren1 is assigned to game ('damen1', 11.0)\n",
      "Team herren1 is assigned to game ('damen1', 12.0)\n",
      "Team damen3 is assigned to game ('damen1', 14.0)\n",
      "Team damen3 is assigned to game ('damen1', 16.0)\n",
      "Team herren1 is assigned to game ('damen1', 18.0)\n",
      "Team damen2 is assigned to game ('damen1', 20.0)\n",
      "Team herren1 is assigned to game ('damen1', 21.0)\n",
      "Team herren1 is assigned to game ('damen2', 2.0)\n",
      "Team damen3 is assigned to game ('damen2', 4.0)\n",
      "Team herren1 is assigned to game ('damen2', 6.0)\n",
      "Team damen3 is assigned to game ('damen2', 8.0)\n",
      "Team u16w is assigned to game ('damen2', 12.0)\n",
      "Team herren1 is assigned to game ('damen2', 14.0)\n",
      "Team herren1 is assigned to game ('damen2', 16.0)\n",
      "Team damen1 is assigned to game ('damen2', 18.0)\n",
      "Team damen1 is assigned to game ('damen2', 20.0)\n",
      "Team damen1 is assigned to game ('damen3', 9.0)\n",
      "Team damen2 is assigned to game ('damen3', 2.0)\n",
      "Team herren2 is assigned to game ('damen3', 4.0)\n",
      "Team damen2 is assigned to game ('damen3', 6.0)\n",
      "Team damen1 is assigned to game ('damen3', 10.0)\n",
      "Team herren1 is assigned to game ('damen3', 16.0)\n",
      "Team herren2 is assigned to game ('damen3', 17.0)\n",
      "Team damen2 is assigned to game ('herren1', 2.0)\n",
      "Team damen1 is assigned to game ('herren1', 4.0)\n",
      "Team damen2 is assigned to game ('herren1', 6.0)\n",
      "Team damen1 is assigned to game ('herren1', 8.0)\n",
      "Team damen1 is assigned to game ('herren1', 11.0)\n",
      "Team damen1 is assigned to game ('herren1', 12.0)\n",
      "Team damen2 is assigned to game ('herren1', 14.0)\n",
      "Team damen2 is assigned to game ('herren1', 16.0)\n",
      "Team damen2 is assigned to game ('herren1', 18.0)\n",
      "Team damen3 is assigned to game ('herren1', 20.0)\n",
      "Team damen1 is assigned to game ('herren1', 21.0)\n",
      "Team damen1 is assigned to game ('herren2', 2.0)\n",
      "Team u16w is assigned to game ('herren2', 4.0)\n",
      "Team u16w is assigned to game ('herren2', 5.0)\n",
      "Team u16w is assigned to game ('herren2', 9.0)\n",
      "Team damen2 is assigned to game ('herren2', 10.0)\n",
      "Team u16w is assigned to game ('herren2', 12.0)\n",
      "Team u16w is assigned to game ('herren2', 15.0)\n",
      "Team damen1 is assigned to game ('herren2', 17.0)\n",
      "Team herren2 is assigned to game ('u16w', 3.0)\n",
      "Team herren2 is assigned to game ('u16w', 1.0)\n",
      "Team herren2 is assigned to game ('u16w', 1.0)\n",
      "Team damen3 is assigned to game ('u16w', 6.0)\n",
      "Team herren2 is assigned to game ('u16w', 9.0)\n",
      "Team herren2 is assigned to game ('u16w', 11.0)\n",
      "Team herren2 is assigned to game ('u16w', 12.0)\n"
     ]
    }
   ],
   "source": [
    "##### formulate and solve optimization problem #####\n",
    "import pulp\n",
    "\n",
    "teamAssignedToGame = {}\n",
    "\n",
    "problem = pulp.LpProblem('kampfgerichtsplanung', pulp.LpMaximize)\n",
    "\n",
    "# define variables\n",
    "for game in games:\n",
    "    for team in teams:\n",
    "        teamAssignedToGame[(game, team)] = pulp.LpVariable(team+'_assigned_to_game_'+str(int(game[1]))+'_of_'+game[0], cat='Binary')\n",
    "    \n",
    "# objective function\n",
    "problem += pulp.lpSum([teamAssignedToGame[(game, team)] for team in teams for game in preferred_games_per_team[team]])\n",
    "\n",
    "# constraint: exactly one team is assigned to one game\n",
    "for game in games:\n",
    "    problem += pulp.lpSum([teamAssignedToGame[(game, team)] for team in teams]) == 1\n",
    "\n",
    "# constraint: no team is assigned to its own game\n",
    "for game in games:\n",
    "    problem += teamAssignedToGame[(game, game[0])] == 0\n",
    "\n",
    "# constraint: each team is assigned as many times as it has home games\n",
    "for team in teams:\n",
    "    problem += pulp.lpSum([teamAssignedToGame[(game, team)] for game in games]) <= games_per_team[team]\n",
    "\n",
    "# constraint: each team is assigned to at most one game per week\n",
    "for team in teams:\n",
    "    for week in games_per_week.keys():\n",
    "        problem += pulp.lpSum([teamAssignedToGame[(game, team)] for game in games_per_week[week]]) <= 1\n",
    "\n",
    "problem.solve()\n",
    "\n",
    "if pulp.LpStatus[problem.status] == 'Optimal':\n",
    "    for game in games:\n",
    "        for team in teams:\n",
    "            if teamAssignedToGame[(game, team)].varValue == True:\n",
    "                print(f'Team {team} is assigned to game {game}')\n"
   ]
  },
  {
   "cell_type": "code",
   "execution_count": 71,
   "id": "e4fe92a6",
   "metadata": {},
   "outputs": [
    {
     "data": {
      "text/html": [
       "<div>\n",
       "<style scoped>\n",
       "    .dataframe tbody tr th:only-of-type {\n",
       "        vertical-align: middle;\n",
       "    }\n",
       "\n",
       "    .dataframe tbody tr th {\n",
       "        vertical-align: top;\n",
       "    }\n",
       "\n",
       "    .dataframe thead th {\n",
       "        text-align: right;\n",
       "    }\n",
       "</style>\n",
       "<table border=\"1\" class=\"dataframe\">\n",
       "  <thead>\n",
       "    <tr style=\"text-align: right;\">\n",
       "      <th></th>\n",
       "      <th>Nr.</th>\n",
       "      <th>Tag</th>\n",
       "      <th>Datum</th>\n",
       "      <th>Heim</th>\n",
       "      <th>Gast</th>\n",
       "      <th>Spielhalle</th>\n",
       "      <th>Team</th>\n",
       "      <th>Kampfgericht</th>\n",
       "    </tr>\n",
       "  </thead>\n",
       "  <tbody>\n",
       "    <tr>\n",
       "      <th>2</th>\n",
       "      <td>8.0</td>\n",
       "      <td>2.0</td>\n",
       "      <td>2024-09-20 19:00:00</td>\n",
       "      <td>DJK Frankenberg 2</td>\n",
       "      <td>Brander TV Aachen 3</td>\n",
       "      <td>Geschwister-Scholl-Gymnasium (obere Halle)</td>\n",
       "      <td>herren2</td>\n",
       "      <td>damen1</td>\n",
       "    </tr>\n",
       "    <tr>\n",
       "      <th>1</th>\n",
       "      <td>7.0</td>\n",
       "      <td>2.0</td>\n",
       "      <td>2024-09-28 14:00:00</td>\n",
       "      <td>DJK Frankenberg 2</td>\n",
       "      <td>TV Grafenberg</td>\n",
       "      <td>Einhard-Gymnasium (Halle 1)</td>\n",
       "      <td>damen2</td>\n",
       "      <td>herren1</td>\n",
       "    </tr>\n",
       "    <tr>\n",
       "      <th>1</th>\n",
       "      <td>7.0</td>\n",
       "      <td>2.0</td>\n",
       "      <td>2024-09-28 16:00:00</td>\n",
       "      <td>DJK Frankenberg</td>\n",
       "      <td>BG Aachen 2</td>\n",
       "      <td>Einhard-Gymnasium (Halle 1)</td>\n",
       "      <td>herren1</td>\n",
       "      <td>damen2</td>\n",
       "    </tr>\n",
       "    <tr>\n",
       "      <th>2</th>\n",
       "      <td>7.0</td>\n",
       "      <td>2.0</td>\n",
       "      <td>2024-09-28 18:00:00</td>\n",
       "      <td>DJK Frankenberg</td>\n",
       "      <td>UBC Münster</td>\n",
       "      <td>Einhard-Gymnasium (Halle 1)</td>\n",
       "      <td>damen1</td>\n",
       "      <td>damen3</td>\n",
       "    </tr>\n",
       "    <tr>\n",
       "      <th>0</th>\n",
       "      <td>41.0</td>\n",
       "      <td>9.0</td>\n",
       "      <td>2024-09-28 20:00:00</td>\n",
       "      <td>DJK Frankenberg 3</td>\n",
       "      <td>BG Aachen 2</td>\n",
       "      <td>Einhard-Gymnasium (Halle 1)</td>\n",
       "      <td>damen3</td>\n",
       "      <td>damen1</td>\n",
       "    </tr>\n",
       "    <tr>\n",
       "      <th>6</th>\n",
       "      <td>18.0</td>\n",
       "      <td>4.0</td>\n",
       "      <td>2024-10-04 19:00:00</td>\n",
       "      <td>DJK Frankenberg 2</td>\n",
       "      <td>Aachener Interkultureller FSV</td>\n",
       "      <td>Geschwister-Scholl-Gymnasium (obere Halle)</td>\n",
       "      <td>herren2</td>\n",
       "      <td>u16w</td>\n",
       "    </tr>\n",
       "    <tr>\n",
       "      <th>1</th>\n",
       "      <td>10.0</td>\n",
       "      <td>3.0</td>\n",
       "      <td>2024-10-05 13:30:00</td>\n",
       "      <td>DJK Frankenberg Aachen</td>\n",
       "      <td>RheinStars Köln 3</td>\n",
       "      <td>Einhard-Gymnasium (Halle 1)</td>\n",
       "      <td>u16w</td>\n",
       "      <td>herren2</td>\n",
       "    </tr>\n",
       "    <tr>\n",
       "      <th>8</th>\n",
       "      <td>23.0</td>\n",
       "      <td>5.0</td>\n",
       "      <td>2024-10-28 20:30:00</td>\n",
       "      <td>DJK Frankenberg 2</td>\n",
       "      <td>SG Herzogenrath/Baesweiler 3</td>\n",
       "      <td>Geschwister-Scholl-Gymnasium (obere Halle)</td>\n",
       "      <td>herren2</td>\n",
       "      <td>u16w</td>\n",
       "    </tr>\n",
       "    <tr>\n",
       "      <th>4</th>\n",
       "      <td>6.0</td>\n",
       "      <td>2.0</td>\n",
       "      <td>2024-11-02 14:00:00</td>\n",
       "      <td>DJK Frankenberg 3</td>\n",
       "      <td>TS Frechen</td>\n",
       "      <td>Einhard-Gymnasium (Halle 1)</td>\n",
       "      <td>damen3</td>\n",
       "      <td>damen2</td>\n",
       "    </tr>\n",
       "    <tr>\n",
       "      <th>5</th>\n",
       "      <td>19.0</td>\n",
       "      <td>4.0</td>\n",
       "      <td>2024-11-02 16:00:00</td>\n",
       "      <td>DJK Frankenberg 2</td>\n",
       "      <td>BG Shots Kaarst-Büttgen</td>\n",
       "      <td>Einhard-Gymnasium (Halle 1)</td>\n",
       "      <td>damen2</td>\n",
       "      <td>damen3</td>\n",
       "    </tr>\n",
       "    <tr>\n",
       "      <th>5</th>\n",
       "      <td>19.0</td>\n",
       "      <td>4.0</td>\n",
       "      <td>2024-11-02 18:00:00</td>\n",
       "      <td>DJK Frankenberg</td>\n",
       "      <td>Hürther BC 2</td>\n",
       "      <td>Einhard-Gymnasium (Halle 1)</td>\n",
       "      <td>herren1</td>\n",
       "      <td>damen1</td>\n",
       "    </tr>\n",
       "    <tr>\n",
       "      <th>6</th>\n",
       "      <td>19.0</td>\n",
       "      <td>4.0</td>\n",
       "      <td>2024-11-02 20:00:00</td>\n",
       "      <td>DJK Frankenberg</td>\n",
       "      <td>Hürther BC</td>\n",
       "      <td>Einhard-Gymnasium (Halle 1)</td>\n",
       "      <td>damen1</td>\n",
       "      <td>herren1</td>\n",
       "    </tr>\n",
       "    <tr>\n",
       "      <th>7</th>\n",
       "      <td>16.0</td>\n",
       "      <td>4.0</td>\n",
       "      <td>2024-11-12 19:30:00</td>\n",
       "      <td>DJK Frankenberg 3</td>\n",
       "      <td>TV Blatzheim</td>\n",
       "      <td>Einhard-Gymnasium (Halle 1)</td>\n",
       "      <td>damen3</td>\n",
       "      <td>herren2</td>\n",
       "    </tr>\n",
       "    <tr>\n",
       "      <th>10</th>\n",
       "      <td>31.0</td>\n",
       "      <td>6.0</td>\n",
       "      <td>2024-11-15 20:30:00</td>\n",
       "      <td>DJK Frankenberg</td>\n",
       "      <td>DTV Basketball Köln</td>\n",
       "      <td>Einhard-Gymnasium (Halle 1)</td>\n",
       "      <td>damen1</td>\n",
       "      <td>u16w</td>\n",
       "    </tr>\n",
       "    <tr>\n",
       "      <th>9</th>\n",
       "      <td>31.0</td>\n",
       "      <td>6.0</td>\n",
       "      <td>2024-11-16 15:30:00</td>\n",
       "      <td>DJK Frankenberg 2</td>\n",
       "      <td>ASG Elsdorf</td>\n",
       "      <td>Einhard-Gymnasium (Halle 1)</td>\n",
       "      <td>damen2</td>\n",
       "      <td>herren1</td>\n",
       "    </tr>\n",
       "    <tr>\n",
       "      <th>9</th>\n",
       "      <td>31.0</td>\n",
       "      <td>6.0</td>\n",
       "      <td>2024-11-16 17:30:00</td>\n",
       "      <td>DJK Frankenberg</td>\n",
       "      <td>TuS Brauweiler</td>\n",
       "      <td>Einhard-Gymnasium (Halle 1)</td>\n",
       "      <td>herren1</td>\n",
       "      <td>damen2</td>\n",
       "    </tr>\n",
       "    <tr>\n",
       "      <th>8</th>\n",
       "      <td>2.0</td>\n",
       "      <td>1.0</td>\n",
       "      <td>2024-11-23 13:30:00</td>\n",
       "      <td>DJK Frankenberg Aachen</td>\n",
       "      <td>BC Köln-Pesch</td>\n",
       "      <td>Einhard-Gymnasium (Halle 1)</td>\n",
       "      <td>u16w</td>\n",
       "      <td>herren2</td>\n",
       "    </tr>\n",
       "    <tr>\n",
       "      <th>15</th>\n",
       "      <td>43.0</td>\n",
       "      <td>9.0</td>\n",
       "      <td>2024-12-06 19:00:00</td>\n",
       "      <td>DJK Frankenberg 2</td>\n",
       "      <td>BG Aachen 4</td>\n",
       "      <td>Geschwister-Scholl-Gymnasium (obere Halle)</td>\n",
       "      <td>herren2</td>\n",
       "      <td>u16w</td>\n",
       "    </tr>\n",
       "    <tr>\n",
       "      <th>10</th>\n",
       "      <td>26.0</td>\n",
       "      <td>6.0</td>\n",
       "      <td>2024-12-07 14:00:00</td>\n",
       "      <td>DJK Frankenberg 3</td>\n",
       "      <td>TuS Zülpich</td>\n",
       "      <td>Einhard-Gymnasium (Halle 1)</td>\n",
       "      <td>damen3</td>\n",
       "      <td>damen2</td>\n",
       "    </tr>\n",
       "    <tr>\n",
       "      <th>13</th>\n",
       "      <td>43.0</td>\n",
       "      <td>8.0</td>\n",
       "      <td>2024-12-07 16:00:00</td>\n",
       "      <td>DJK Frankenberg 2</td>\n",
       "      <td>TG Neuss 3</td>\n",
       "      <td>Einhard-Gymnasium (Halle 1)</td>\n",
       "      <td>damen2</td>\n",
       "      <td>damen3</td>\n",
       "    </tr>\n",
       "    <tr>\n",
       "      <th>13</th>\n",
       "      <td>43.0</td>\n",
       "      <td>8.0</td>\n",
       "      <td>2024-12-07 18:00:00</td>\n",
       "      <td>DJK Frankenberg</td>\n",
       "      <td>Telekom Baskets Bonn 5</td>\n",
       "      <td>Einhard-Gymnasium (Halle 1)</td>\n",
       "      <td>herren1</td>\n",
       "      <td>damen1</td>\n",
       "    </tr>\n",
       "    <tr>\n",
       "      <th>14</th>\n",
       "      <td>43.0</td>\n",
       "      <td>8.0</td>\n",
       "      <td>2024-12-07 20:00:00</td>\n",
       "      <td>DJK Frankenberg</td>\n",
       "      <td>Talents BonnRhöndorf 2</td>\n",
       "      <td>Einhard-Gymnasium (Halle 1)</td>\n",
       "      <td>damen1</td>\n",
       "      <td>herren1</td>\n",
       "    </tr>\n",
       "    <tr>\n",
       "      <th>17</th>\n",
       "      <td>47.0</td>\n",
       "      <td>10.0</td>\n",
       "      <td>2024-12-13 19:00:00</td>\n",
       "      <td>DJK Frankenberg 2</td>\n",
       "      <td>1. BBC Düren \"The Wizards\" 3</td>\n",
       "      <td>Geschwister-Scholl-Gymnasium (obere Halle)</td>\n",
       "      <td>herren2</td>\n",
       "      <td>damen2</td>\n",
       "    </tr>\n",
       "    <tr>\n",
       "      <th>11</th>\n",
       "      <td>2.0</td>\n",
       "      <td>1.0</td>\n",
       "      <td>2025-01-11 13:30:00</td>\n",
       "      <td>DJK Frankenberg Aachen</td>\n",
       "      <td>TV Blatzheim</td>\n",
       "      <td>Einhard-Gymnasium (Halle 1)</td>\n",
       "      <td>u16w</td>\n",
       "      <td>herren2</td>\n",
       "    </tr>\n",
       "    <tr>\n",
       "      <th>21</th>\n",
       "      <td>59.0</td>\n",
       "      <td>12.0</td>\n",
       "      <td>2025-01-17 19:00:00</td>\n",
       "      <td>DJK Frankenberg 2</td>\n",
       "      <td>DJK Elmar Kohlscheid</td>\n",
       "      <td>Geschwister-Scholl-Gymnasium (obere Halle)</td>\n",
       "      <td>herren2</td>\n",
       "      <td>u16w</td>\n",
       "    </tr>\n",
       "    <tr>\n",
       "      <th>19</th>\n",
       "      <td>61.0</td>\n",
       "      <td>11.0</td>\n",
       "      <td>2025-01-18 16:00:00</td>\n",
       "      <td>DJK Frankenberg</td>\n",
       "      <td>Telekom Baskets Bonn 4</td>\n",
       "      <td>Einhard-Gymnasium (Halle 1)</td>\n",
       "      <td>herren1</td>\n",
       "      <td>damen1</td>\n",
       "    </tr>\n",
       "    <tr>\n",
       "      <th>20</th>\n",
       "      <td>61.0</td>\n",
       "      <td>11.0</td>\n",
       "      <td>2025-01-18 18:00:00</td>\n",
       "      <td>DJK Frankenberg</td>\n",
       "      <td>Gütersloher TV</td>\n",
       "      <td>Einhard-Gymnasium (Halle 1)</td>\n",
       "      <td>damen1</td>\n",
       "      <td>herren1</td>\n",
       "    </tr>\n",
       "    <tr>\n",
       "      <th>19</th>\n",
       "      <td>71.0</td>\n",
       "      <td>12.0</td>\n",
       "      <td>2025-01-25 14:00:00</td>\n",
       "      <td>DJK Frankenberg 2</td>\n",
       "      <td>BG Aachen</td>\n",
       "      <td>Einhard-Gymnasium (Halle 1)</td>\n",
       "      <td>damen2</td>\n",
       "      <td>u16w</td>\n",
       "    </tr>\n",
       "    <tr>\n",
       "      <th>21</th>\n",
       "      <td>71.0</td>\n",
       "      <td>12.0</td>\n",
       "      <td>2025-01-25 16:00:00</td>\n",
       "      <td>DJK Frankenberg</td>\n",
       "      <td>TuS Zülpich</td>\n",
       "      <td>Einhard-Gymnasium (Halle 1)</td>\n",
       "      <td>herren1</td>\n",
       "      <td>damen1</td>\n",
       "    </tr>\n",
       "    <tr>\n",
       "      <th>22</th>\n",
       "      <td>71.0</td>\n",
       "      <td>12.0</td>\n",
       "      <td>2025-01-25 18:00:00</td>\n",
       "      <td>DJK Frankenberg</td>\n",
       "      <td>WINGS Leverkusen 2</td>\n",
       "      <td>Einhard-Gymnasium (Halle 1)</td>\n",
       "      <td>damen1</td>\n",
       "      <td>herren1</td>\n",
       "    </tr>\n",
       "    <tr>\n",
       "      <th>27</th>\n",
       "      <td>71.0</td>\n",
       "      <td>15.0</td>\n",
       "      <td>2025-02-07 19:00:00</td>\n",
       "      <td>DJK Frankenberg 2</td>\n",
       "      <td>TV 'Eintracht' Mützenich</td>\n",
       "      <td>Geschwister-Scholl-Gymnasium (obere Halle)</td>\n",
       "      <td>herren2</td>\n",
       "      <td>u16w</td>\n",
       "    </tr>\n",
       "    <tr>\n",
       "      <th>23</th>\n",
       "      <td>81.0</td>\n",
       "      <td>14.0</td>\n",
       "      <td>2025-02-08 14:00:00</td>\n",
       "      <td>DJK Frankenberg 2</td>\n",
       "      <td>TG Neuss 2</td>\n",
       "      <td>Einhard-Gymnasium (Halle 1)</td>\n",
       "      <td>damen2</td>\n",
       "      <td>herren1</td>\n",
       "    </tr>\n",
       "    <tr>\n",
       "      <th>25</th>\n",
       "      <td>81.0</td>\n",
       "      <td>14.0</td>\n",
       "      <td>2025-02-08 16:00:00</td>\n",
       "      <td>DJK Frankenberg</td>\n",
       "      <td>TS Frechen</td>\n",
       "      <td>Einhard-Gymnasium (Halle 1)</td>\n",
       "      <td>herren1</td>\n",
       "      <td>damen2</td>\n",
       "    </tr>\n",
       "    <tr>\n",
       "      <th>26</th>\n",
       "      <td>81.0</td>\n",
       "      <td>14.0</td>\n",
       "      <td>2025-02-08 18:00:00</td>\n",
       "      <td>DJK Frankenberg</td>\n",
       "      <td>SG Bergische Löwen</td>\n",
       "      <td>Einhard-Gymnasium (Halle 1)</td>\n",
       "      <td>damen1</td>\n",
       "      <td>damen3</td>\n",
       "    </tr>\n",
       "    <tr>\n",
       "      <th>18</th>\n",
       "      <td>49.0</td>\n",
       "      <td>10.0</td>\n",
       "      <td>2025-02-08 20:00:00</td>\n",
       "      <td>DJK Frankenberg 3</td>\n",
       "      <td>Pulheimer SC</td>\n",
       "      <td>Einhard-Gymnasium (Halle 1)</td>\n",
       "      <td>damen3</td>\n",
       "      <td>damen1</td>\n",
       "    </tr>\n",
       "    <tr>\n",
       "      <th>19</th>\n",
       "      <td>22.0</td>\n",
       "      <td>6.0</td>\n",
       "      <td>2025-02-15 13:30:00</td>\n",
       "      <td>DJK Frankenberg Aachen</td>\n",
       "      <td>BG Bonn 3</td>\n",
       "      <td>Einhard-Gymnasium (Halle 1)</td>\n",
       "      <td>u16w</td>\n",
       "      <td>damen3</td>\n",
       "    </tr>\n",
       "    <tr>\n",
       "      <th>30</th>\n",
       "      <td>84.0</td>\n",
       "      <td>17.0</td>\n",
       "      <td>2025-02-21 19:00:00</td>\n",
       "      <td>DJK Frankenberg 2</td>\n",
       "      <td>BV 88 Eschweiler 2</td>\n",
       "      <td>Geschwister-Scholl-Gymnasium (obere Halle)</td>\n",
       "      <td>herren2</td>\n",
       "      <td>damen1</td>\n",
       "    </tr>\n",
       "    <tr>\n",
       "      <th>27</th>\n",
       "      <td>96.0</td>\n",
       "      <td>16.0</td>\n",
       "      <td>2025-02-22 14:00:00</td>\n",
       "      <td>DJK Frankenberg 2</td>\n",
       "      <td>SG Herzogenrath/Baesweiler</td>\n",
       "      <td>Einhard-Gymnasium (Halle 1)</td>\n",
       "      <td>damen2</td>\n",
       "      <td>herren1</td>\n",
       "    </tr>\n",
       "    <tr>\n",
       "      <th>29</th>\n",
       "      <td>96.0</td>\n",
       "      <td>16.0</td>\n",
       "      <td>2025-02-22 16:00:00</td>\n",
       "      <td>DJK Frankenberg</td>\n",
       "      <td>DJK Bad Münstereifel</td>\n",
       "      <td>Einhard-Gymnasium (Halle 1)</td>\n",
       "      <td>herren1</td>\n",
       "      <td>damen2</td>\n",
       "    </tr>\n",
       "    <tr>\n",
       "      <th>30</th>\n",
       "      <td>96.0</td>\n",
       "      <td>16.0</td>\n",
       "      <td>2025-02-22 18:00:00</td>\n",
       "      <td>DJK Frankenberg</td>\n",
       "      <td>VfL AstroStars Bochum 2</td>\n",
       "      <td>Einhard-Gymnasium (Halle 1)</td>\n",
       "      <td>damen1</td>\n",
       "      <td>damen3</td>\n",
       "    </tr>\n",
       "    <tr>\n",
       "      <th>31</th>\n",
       "      <td>106.0</td>\n",
       "      <td>18.0</td>\n",
       "      <td>2025-03-15 16:00:00</td>\n",
       "      <td>DJK Frankenberg 2</td>\n",
       "      <td>Mettmann-Sport</td>\n",
       "      <td>Einhard-Gymnasium (Halle 1)</td>\n",
       "      <td>damen2</td>\n",
       "      <td>damen1</td>\n",
       "    </tr>\n",
       "    <tr>\n",
       "      <th>33</th>\n",
       "      <td>106.0</td>\n",
       "      <td>18.0</td>\n",
       "      <td>2025-03-15 18:00:00</td>\n",
       "      <td>DJK Frankenberg</td>\n",
       "      <td>TV Blatzheim</td>\n",
       "      <td>Einhard-Gymnasium (Halle 1)</td>\n",
       "      <td>herren1</td>\n",
       "      <td>damen2</td>\n",
       "    </tr>\n",
       "    <tr>\n",
       "      <th>34</th>\n",
       "      <td>106.0</td>\n",
       "      <td>18.0</td>\n",
       "      <td>2025-03-15 20:00:00</td>\n",
       "      <td>DJK Frankenberg</td>\n",
       "      <td>New Basket Oberhausen 2</td>\n",
       "      <td>Einhard-Gymnasium (Halle 1)</td>\n",
       "      <td>damen1</td>\n",
       "      <td>herren1</td>\n",
       "    </tr>\n",
       "    <tr>\n",
       "      <th>25</th>\n",
       "      <td>33.0</td>\n",
       "      <td>9.0</td>\n",
       "      <td>2025-03-22 13:30:00</td>\n",
       "      <td>DJK Frankenberg Aachen</td>\n",
       "      <td>Pulheimer SC</td>\n",
       "      <td>Einhard-Gymnasium (Halle 1)</td>\n",
       "      <td>u16w</td>\n",
       "      <td>herren2</td>\n",
       "    </tr>\n",
       "    <tr>\n",
       "      <th>27</th>\n",
       "      <td>77.0</td>\n",
       "      <td>16.0</td>\n",
       "      <td>2025-03-29 14:00:00</td>\n",
       "      <td>DJK Frankenberg 3</td>\n",
       "      <td>Haarener TE</td>\n",
       "      <td>Einhard-Gymnasium (Halle 1)</td>\n",
       "      <td>damen3</td>\n",
       "      <td>herren1</td>\n",
       "    </tr>\n",
       "    <tr>\n",
       "      <th>37</th>\n",
       "      <td>116.0</td>\n",
       "      <td>20.0</td>\n",
       "      <td>2025-03-29 16:00:00</td>\n",
       "      <td>DJK Frankenberg</td>\n",
       "      <td>Haarener TE</td>\n",
       "      <td>Einhard-Gymnasium (Halle 1)</td>\n",
       "      <td>herren1</td>\n",
       "      <td>damen3</td>\n",
       "    </tr>\n",
       "    <tr>\n",
       "      <th>38</th>\n",
       "      <td>116.0</td>\n",
       "      <td>20.0</td>\n",
       "      <td>2025-03-29 18:00:00</td>\n",
       "      <td>DJK Frankenberg</td>\n",
       "      <td>TSV Hagen</td>\n",
       "      <td>Einhard-Gymnasium (Halle 1)</td>\n",
       "      <td>damen1</td>\n",
       "      <td>damen2</td>\n",
       "    </tr>\n",
       "    <tr>\n",
       "      <th>35</th>\n",
       "      <td>116.0</td>\n",
       "      <td>20.0</td>\n",
       "      <td>2025-03-29 20:00:00</td>\n",
       "      <td>DJK Frankenberg 2</td>\n",
       "      <td>Capitol Bascats Düsseldorf 2</td>\n",
       "      <td>Einhard-Gymnasium (Halle 1)</td>\n",
       "      <td>damen2</td>\n",
       "      <td>damen1</td>\n",
       "    </tr>\n",
       "    <tr>\n",
       "      <th>29</th>\n",
       "      <td>43.0</td>\n",
       "      <td>11.0</td>\n",
       "      <td>2025-04-05 13:30:00</td>\n",
       "      <td>DJK Frankenberg Aachen</td>\n",
       "      <td>SG Sechtem 2</td>\n",
       "      <td>Einhard-Gymnasium (Halle 1)</td>\n",
       "      <td>u16w</td>\n",
       "      <td>herren2</td>\n",
       "    </tr>\n",
       "    <tr>\n",
       "      <th>39</th>\n",
       "      <td>121.0</td>\n",
       "      <td>21.0</td>\n",
       "      <td>2025-04-05 16:00:00</td>\n",
       "      <td>DJK Frankenberg</td>\n",
       "      <td>SG Herzogenrath/Baesweiler</td>\n",
       "      <td>Einhard-Gymnasium (Halle 1)</td>\n",
       "      <td>herren1</td>\n",
       "      <td>damen1</td>\n",
       "    </tr>\n",
       "    <tr>\n",
       "      <th>40</th>\n",
       "      <td>121.0</td>\n",
       "      <td>21.0</td>\n",
       "      <td>2025-04-05 18:00:00</td>\n",
       "      <td>DJK Frankenberg</td>\n",
       "      <td>Citybasket Recklinghausen</td>\n",
       "      <td>Einhard-Gymnasium (Halle 1)</td>\n",
       "      <td>damen1</td>\n",
       "      <td>herren1</td>\n",
       "    </tr>\n",
       "    <tr>\n",
       "      <th>29</th>\n",
       "      <td>81.0</td>\n",
       "      <td>17.0</td>\n",
       "      <td>2025-04-08 19:30:00</td>\n",
       "      <td>DJK Frankenberg 3</td>\n",
       "      <td>BTV Basketball Brühl 2</td>\n",
       "      <td>Einhard-Gymnasium (Halle 1)</td>\n",
       "      <td>damen3</td>\n",
       "      <td>herren2</td>\n",
       "    </tr>\n",
       "    <tr>\n",
       "      <th>31</th>\n",
       "      <td>45.0</td>\n",
       "      <td>12.0</td>\n",
       "      <td>2025-05-10 13:30:00</td>\n",
       "      <td>DJK Frankenberg Aachen</td>\n",
       "      <td>DJK Köln-Nord</td>\n",
       "      <td>Einhard-Gymnasium (Halle 1)</td>\n",
       "      <td>u16w</td>\n",
       "      <td>herren2</td>\n",
       "    </tr>\n",
       "  </tbody>\n",
       "</table>\n",
       "</div>"
      ],
      "text/plain": [
       "      Nr.   Tag               Datum                    Heim  \\\n",
       "2     8.0   2.0 2024-09-20 19:00:00       DJK Frankenberg 2   \n",
       "1     7.0   2.0 2024-09-28 14:00:00       DJK Frankenberg 2   \n",
       "1     7.0   2.0 2024-09-28 16:00:00         DJK Frankenberg   \n",
       "2     7.0   2.0 2024-09-28 18:00:00         DJK Frankenberg   \n",
       "0    41.0   9.0 2024-09-28 20:00:00       DJK Frankenberg 3   \n",
       "6    18.0   4.0 2024-10-04 19:00:00       DJK Frankenberg 2   \n",
       "1    10.0   3.0 2024-10-05 13:30:00  DJK Frankenberg Aachen   \n",
       "8    23.0   5.0 2024-10-28 20:30:00       DJK Frankenberg 2   \n",
       "4     6.0   2.0 2024-11-02 14:00:00       DJK Frankenberg 3   \n",
       "5    19.0   4.0 2024-11-02 16:00:00       DJK Frankenberg 2   \n",
       "5    19.0   4.0 2024-11-02 18:00:00         DJK Frankenberg   \n",
       "6    19.0   4.0 2024-11-02 20:00:00         DJK Frankenberg   \n",
       "7    16.0   4.0 2024-11-12 19:30:00       DJK Frankenberg 3   \n",
       "10   31.0   6.0 2024-11-15 20:30:00         DJK Frankenberg   \n",
       "9    31.0   6.0 2024-11-16 15:30:00       DJK Frankenberg 2   \n",
       "9    31.0   6.0 2024-11-16 17:30:00         DJK Frankenberg   \n",
       "8     2.0   1.0 2024-11-23 13:30:00  DJK Frankenberg Aachen   \n",
       "15   43.0   9.0 2024-12-06 19:00:00       DJK Frankenberg 2   \n",
       "10   26.0   6.0 2024-12-07 14:00:00       DJK Frankenberg 3   \n",
       "13   43.0   8.0 2024-12-07 16:00:00       DJK Frankenberg 2   \n",
       "13   43.0   8.0 2024-12-07 18:00:00         DJK Frankenberg   \n",
       "14   43.0   8.0 2024-12-07 20:00:00         DJK Frankenberg   \n",
       "17   47.0  10.0 2024-12-13 19:00:00       DJK Frankenberg 2   \n",
       "11    2.0   1.0 2025-01-11 13:30:00  DJK Frankenberg Aachen   \n",
       "21   59.0  12.0 2025-01-17 19:00:00       DJK Frankenberg 2   \n",
       "19   61.0  11.0 2025-01-18 16:00:00         DJK Frankenberg   \n",
       "20   61.0  11.0 2025-01-18 18:00:00         DJK Frankenberg   \n",
       "19   71.0  12.0 2025-01-25 14:00:00       DJK Frankenberg 2   \n",
       "21   71.0  12.0 2025-01-25 16:00:00         DJK Frankenberg   \n",
       "22   71.0  12.0 2025-01-25 18:00:00         DJK Frankenberg   \n",
       "27   71.0  15.0 2025-02-07 19:00:00       DJK Frankenberg 2   \n",
       "23   81.0  14.0 2025-02-08 14:00:00       DJK Frankenberg 2   \n",
       "25   81.0  14.0 2025-02-08 16:00:00         DJK Frankenberg   \n",
       "26   81.0  14.0 2025-02-08 18:00:00         DJK Frankenberg   \n",
       "18   49.0  10.0 2025-02-08 20:00:00       DJK Frankenberg 3   \n",
       "19   22.0   6.0 2025-02-15 13:30:00  DJK Frankenberg Aachen   \n",
       "30   84.0  17.0 2025-02-21 19:00:00       DJK Frankenberg 2   \n",
       "27   96.0  16.0 2025-02-22 14:00:00       DJK Frankenberg 2   \n",
       "29   96.0  16.0 2025-02-22 16:00:00         DJK Frankenberg   \n",
       "30   96.0  16.0 2025-02-22 18:00:00         DJK Frankenberg   \n",
       "31  106.0  18.0 2025-03-15 16:00:00       DJK Frankenberg 2   \n",
       "33  106.0  18.0 2025-03-15 18:00:00         DJK Frankenberg   \n",
       "34  106.0  18.0 2025-03-15 20:00:00         DJK Frankenberg   \n",
       "25   33.0   9.0 2025-03-22 13:30:00  DJK Frankenberg Aachen   \n",
       "27   77.0  16.0 2025-03-29 14:00:00       DJK Frankenberg 3   \n",
       "37  116.0  20.0 2025-03-29 16:00:00         DJK Frankenberg   \n",
       "38  116.0  20.0 2025-03-29 18:00:00         DJK Frankenberg   \n",
       "35  116.0  20.0 2025-03-29 20:00:00       DJK Frankenberg 2   \n",
       "29   43.0  11.0 2025-04-05 13:30:00  DJK Frankenberg Aachen   \n",
       "39  121.0  21.0 2025-04-05 16:00:00         DJK Frankenberg   \n",
       "40  121.0  21.0 2025-04-05 18:00:00         DJK Frankenberg   \n",
       "29   81.0  17.0 2025-04-08 19:30:00       DJK Frankenberg 3   \n",
       "31   45.0  12.0 2025-05-10 13:30:00  DJK Frankenberg Aachen   \n",
       "\n",
       "                             Gast                                  Spielhalle  \\\n",
       "2             Brander TV Aachen 3  Geschwister-Scholl-Gymnasium (obere Halle)   \n",
       "1                   TV Grafenberg                 Einhard-Gymnasium (Halle 1)   \n",
       "1                     BG Aachen 2                 Einhard-Gymnasium (Halle 1)   \n",
       "2                     UBC Münster                 Einhard-Gymnasium (Halle 1)   \n",
       "0                     BG Aachen 2                 Einhard-Gymnasium (Halle 1)   \n",
       "6   Aachener Interkultureller FSV  Geschwister-Scholl-Gymnasium (obere Halle)   \n",
       "1               RheinStars Köln 3                 Einhard-Gymnasium (Halle 1)   \n",
       "8    SG Herzogenrath/Baesweiler 3  Geschwister-Scholl-Gymnasium (obere Halle)   \n",
       "4                      TS Frechen                 Einhard-Gymnasium (Halle 1)   \n",
       "5         BG Shots Kaarst-Büttgen                 Einhard-Gymnasium (Halle 1)   \n",
       "5                    Hürther BC 2                 Einhard-Gymnasium (Halle 1)   \n",
       "6                      Hürther BC                 Einhard-Gymnasium (Halle 1)   \n",
       "7                    TV Blatzheim                 Einhard-Gymnasium (Halle 1)   \n",
       "10            DTV Basketball Köln                 Einhard-Gymnasium (Halle 1)   \n",
       "9                     ASG Elsdorf                 Einhard-Gymnasium (Halle 1)   \n",
       "9                  TuS Brauweiler                 Einhard-Gymnasium (Halle 1)   \n",
       "8                   BC Köln-Pesch                 Einhard-Gymnasium (Halle 1)   \n",
       "15                    BG Aachen 4  Geschwister-Scholl-Gymnasium (obere Halle)   \n",
       "10                    TuS Zülpich                 Einhard-Gymnasium (Halle 1)   \n",
       "13                     TG Neuss 3                 Einhard-Gymnasium (Halle 1)   \n",
       "13         Telekom Baskets Bonn 5                 Einhard-Gymnasium (Halle 1)   \n",
       "14         Talents BonnRhöndorf 2                 Einhard-Gymnasium (Halle 1)   \n",
       "17   1. BBC Düren \"The Wizards\" 3  Geschwister-Scholl-Gymnasium (obere Halle)   \n",
       "11                   TV Blatzheim                 Einhard-Gymnasium (Halle 1)   \n",
       "21           DJK Elmar Kohlscheid  Geschwister-Scholl-Gymnasium (obere Halle)   \n",
       "19         Telekom Baskets Bonn 4                 Einhard-Gymnasium (Halle 1)   \n",
       "20                 Gütersloher TV                 Einhard-Gymnasium (Halle 1)   \n",
       "19                      BG Aachen                 Einhard-Gymnasium (Halle 1)   \n",
       "21                    TuS Zülpich                 Einhard-Gymnasium (Halle 1)   \n",
       "22             WINGS Leverkusen 2                 Einhard-Gymnasium (Halle 1)   \n",
       "27       TV 'Eintracht' Mützenich  Geschwister-Scholl-Gymnasium (obere Halle)   \n",
       "23                     TG Neuss 2                 Einhard-Gymnasium (Halle 1)   \n",
       "25                     TS Frechen                 Einhard-Gymnasium (Halle 1)   \n",
       "26             SG Bergische Löwen                 Einhard-Gymnasium (Halle 1)   \n",
       "18                   Pulheimer SC                 Einhard-Gymnasium (Halle 1)   \n",
       "19                      BG Bonn 3                 Einhard-Gymnasium (Halle 1)   \n",
       "30             BV 88 Eschweiler 2  Geschwister-Scholl-Gymnasium (obere Halle)   \n",
       "27     SG Herzogenrath/Baesweiler                 Einhard-Gymnasium (Halle 1)   \n",
       "29           DJK Bad Münstereifel                 Einhard-Gymnasium (Halle 1)   \n",
       "30        VfL AstroStars Bochum 2                 Einhard-Gymnasium (Halle 1)   \n",
       "31                 Mettmann-Sport                 Einhard-Gymnasium (Halle 1)   \n",
       "33                   TV Blatzheim                 Einhard-Gymnasium (Halle 1)   \n",
       "34        New Basket Oberhausen 2                 Einhard-Gymnasium (Halle 1)   \n",
       "25                   Pulheimer SC                 Einhard-Gymnasium (Halle 1)   \n",
       "27                    Haarener TE                 Einhard-Gymnasium (Halle 1)   \n",
       "37                    Haarener TE                 Einhard-Gymnasium (Halle 1)   \n",
       "38                      TSV Hagen                 Einhard-Gymnasium (Halle 1)   \n",
       "35   Capitol Bascats Düsseldorf 2                 Einhard-Gymnasium (Halle 1)   \n",
       "29                   SG Sechtem 2                 Einhard-Gymnasium (Halle 1)   \n",
       "39     SG Herzogenrath/Baesweiler                 Einhard-Gymnasium (Halle 1)   \n",
       "40      Citybasket Recklinghausen                 Einhard-Gymnasium (Halle 1)   \n",
       "29         BTV Basketball Brühl 2                 Einhard-Gymnasium (Halle 1)   \n",
       "31                  DJK Köln-Nord                 Einhard-Gymnasium (Halle 1)   \n",
       "\n",
       "       Team Kampfgericht  \n",
       "2   herren2       damen1  \n",
       "1    damen2      herren1  \n",
       "1   herren1       damen2  \n",
       "2    damen1       damen3  \n",
       "0    damen3       damen1  \n",
       "6   herren2         u16w  \n",
       "1      u16w      herren2  \n",
       "8   herren2         u16w  \n",
       "4    damen3       damen2  \n",
       "5    damen2       damen3  \n",
       "5   herren1       damen1  \n",
       "6    damen1      herren1  \n",
       "7    damen3      herren2  \n",
       "10   damen1         u16w  \n",
       "9    damen2      herren1  \n",
       "9   herren1       damen2  \n",
       "8      u16w      herren2  \n",
       "15  herren2         u16w  \n",
       "10   damen3       damen2  \n",
       "13   damen2       damen3  \n",
       "13  herren1       damen1  \n",
       "14   damen1      herren1  \n",
       "17  herren2       damen2  \n",
       "11     u16w      herren2  \n",
       "21  herren2         u16w  \n",
       "19  herren1       damen1  \n",
       "20   damen1      herren1  \n",
       "19   damen2         u16w  \n",
       "21  herren1       damen1  \n",
       "22   damen1      herren1  \n",
       "27  herren2         u16w  \n",
       "23   damen2      herren1  \n",
       "25  herren1       damen2  \n",
       "26   damen1       damen3  \n",
       "18   damen3       damen1  \n",
       "19     u16w       damen3  \n",
       "30  herren2       damen1  \n",
       "27   damen2      herren1  \n",
       "29  herren1       damen2  \n",
       "30   damen1       damen3  \n",
       "31   damen2       damen1  \n",
       "33  herren1       damen2  \n",
       "34   damen1      herren1  \n",
       "25     u16w      herren2  \n",
       "27   damen3      herren1  \n",
       "37  herren1       damen3  \n",
       "38   damen1       damen2  \n",
       "35   damen2       damen1  \n",
       "29     u16w      herren2  \n",
       "39  herren1       damen1  \n",
       "40   damen1      herren1  \n",
       "29   damen3      herren2  \n",
       "31     u16w      herren2  "
      ]
     },
     "execution_count": 71,
     "metadata": {},
     "output_type": "execute_result"
    }
   ],
   "source": [
    "##### export solution #####\n",
    "resulting_schedule = pd.concat([s for s in home_schedules.values()])\n",
    "\n",
    "assigned_teams = []\n",
    "for team, matchday in resulting_schedule[['Team', 'Tag']].values:\n",
    "    for assigned_team in teams:\n",
    "        if teamAssignedToGame[((team, matchday), assigned_team)].varValue == True:\n",
    "            assigned_teams.append(assigned_team)\n",
    "            break\n",
    "\n",
    "resulting_schedule['Kampfgericht'] = assigned_teams\n",
    "\n",
    "resulting_schedule.sort_values(by='Datum', inplace=True)\n",
    "\n",
    "resulting_schedule.to_csv('Kampfgerichtsplan.csv')\n",
    "resulting_schedule\n",
    "        "
   ]
  },
  {
   "cell_type": "code",
   "execution_count": 72,
   "id": "6620286f",
   "metadata": {},
   "outputs": [
    {
     "data": {
      "application/vnd.plotly.v1+json": {
       "config": {
        "plotlyServerURL": "https://plot.ly"
       },
       "data": [
        {
         "domain": {
          "x": [
           0,
           1
          ],
          "y": [
           0,
           1
          ]
         },
         "hovertemplate": "Kampfgericht=%{label}<br>value=%{value}<extra></extra>",
         "labels": [
          "damen1",
          "herren1",
          "damen2",
          "herren2",
          "damen3",
          "u16w"
         ],
         "legendgroup": "",
         "name": "",
         "showlegend": true,
         "type": "pie",
         "values": {
          "bdata": "CwsJCAcH",
          "dtype": "i1"
         }
        }
       ],
       "layout": {
        "legend": {
         "tracegroupgap": 0
        },
        "template": {
         "data": {
          "bar": [
           {
            "error_x": {
             "color": "#2a3f5f"
            },
            "error_y": {
             "color": "#2a3f5f"
            },
            "marker": {
             "line": {
              "color": "#E5ECF6",
              "width": 0.5
             },
             "pattern": {
              "fillmode": "overlay",
              "size": 10,
              "solidity": 0.2
             }
            },
            "type": "bar"
           }
          ],
          "barpolar": [
           {
            "marker": {
             "line": {
              "color": "#E5ECF6",
              "width": 0.5
             },
             "pattern": {
              "fillmode": "overlay",
              "size": 10,
              "solidity": 0.2
             }
            },
            "type": "barpolar"
           }
          ],
          "carpet": [
           {
            "aaxis": {
             "endlinecolor": "#2a3f5f",
             "gridcolor": "white",
             "linecolor": "white",
             "minorgridcolor": "white",
             "startlinecolor": "#2a3f5f"
            },
            "baxis": {
             "endlinecolor": "#2a3f5f",
             "gridcolor": "white",
             "linecolor": "white",
             "minorgridcolor": "white",
             "startlinecolor": "#2a3f5f"
            },
            "type": "carpet"
           }
          ],
          "choropleth": [
           {
            "colorbar": {
             "outlinewidth": 0,
             "ticks": ""
            },
            "type": "choropleth"
           }
          ],
          "contour": [
           {
            "colorbar": {
             "outlinewidth": 0,
             "ticks": ""
            },
            "colorscale": [
             [
              0,
              "#0d0887"
             ],
             [
              0.1111111111111111,
              "#46039f"
             ],
             [
              0.2222222222222222,
              "#7201a8"
             ],
             [
              0.3333333333333333,
              "#9c179e"
             ],
             [
              0.4444444444444444,
              "#bd3786"
             ],
             [
              0.5555555555555556,
              "#d8576b"
             ],
             [
              0.6666666666666666,
              "#ed7953"
             ],
             [
              0.7777777777777778,
              "#fb9f3a"
             ],
             [
              0.8888888888888888,
              "#fdca26"
             ],
             [
              1,
              "#f0f921"
             ]
            ],
            "type": "contour"
           }
          ],
          "contourcarpet": [
           {
            "colorbar": {
             "outlinewidth": 0,
             "ticks": ""
            },
            "type": "contourcarpet"
           }
          ],
          "heatmap": [
           {
            "colorbar": {
             "outlinewidth": 0,
             "ticks": ""
            },
            "colorscale": [
             [
              0,
              "#0d0887"
             ],
             [
              0.1111111111111111,
              "#46039f"
             ],
             [
              0.2222222222222222,
              "#7201a8"
             ],
             [
              0.3333333333333333,
              "#9c179e"
             ],
             [
              0.4444444444444444,
              "#bd3786"
             ],
             [
              0.5555555555555556,
              "#d8576b"
             ],
             [
              0.6666666666666666,
              "#ed7953"
             ],
             [
              0.7777777777777778,
              "#fb9f3a"
             ],
             [
              0.8888888888888888,
              "#fdca26"
             ],
             [
              1,
              "#f0f921"
             ]
            ],
            "type": "heatmap"
           }
          ],
          "histogram": [
           {
            "marker": {
             "pattern": {
              "fillmode": "overlay",
              "size": 10,
              "solidity": 0.2
             }
            },
            "type": "histogram"
           }
          ],
          "histogram2d": [
           {
            "colorbar": {
             "outlinewidth": 0,
             "ticks": ""
            },
            "colorscale": [
             [
              0,
              "#0d0887"
             ],
             [
              0.1111111111111111,
              "#46039f"
             ],
             [
              0.2222222222222222,
              "#7201a8"
             ],
             [
              0.3333333333333333,
              "#9c179e"
             ],
             [
              0.4444444444444444,
              "#bd3786"
             ],
             [
              0.5555555555555556,
              "#d8576b"
             ],
             [
              0.6666666666666666,
              "#ed7953"
             ],
             [
              0.7777777777777778,
              "#fb9f3a"
             ],
             [
              0.8888888888888888,
              "#fdca26"
             ],
             [
              1,
              "#f0f921"
             ]
            ],
            "type": "histogram2d"
           }
          ],
          "histogram2dcontour": [
           {
            "colorbar": {
             "outlinewidth": 0,
             "ticks": ""
            },
            "colorscale": [
             [
              0,
              "#0d0887"
             ],
             [
              0.1111111111111111,
              "#46039f"
             ],
             [
              0.2222222222222222,
              "#7201a8"
             ],
             [
              0.3333333333333333,
              "#9c179e"
             ],
             [
              0.4444444444444444,
              "#bd3786"
             ],
             [
              0.5555555555555556,
              "#d8576b"
             ],
             [
              0.6666666666666666,
              "#ed7953"
             ],
             [
              0.7777777777777778,
              "#fb9f3a"
             ],
             [
              0.8888888888888888,
              "#fdca26"
             ],
             [
              1,
              "#f0f921"
             ]
            ],
            "type": "histogram2dcontour"
           }
          ],
          "mesh3d": [
           {
            "colorbar": {
             "outlinewidth": 0,
             "ticks": ""
            },
            "type": "mesh3d"
           }
          ],
          "parcoords": [
           {
            "line": {
             "colorbar": {
              "outlinewidth": 0,
              "ticks": ""
             }
            },
            "type": "parcoords"
           }
          ],
          "pie": [
           {
            "automargin": true,
            "type": "pie"
           }
          ],
          "scatter": [
           {
            "fillpattern": {
             "fillmode": "overlay",
             "size": 10,
             "solidity": 0.2
            },
            "type": "scatter"
           }
          ],
          "scatter3d": [
           {
            "line": {
             "colorbar": {
              "outlinewidth": 0,
              "ticks": ""
             }
            },
            "marker": {
             "colorbar": {
              "outlinewidth": 0,
              "ticks": ""
             }
            },
            "type": "scatter3d"
           }
          ],
          "scattercarpet": [
           {
            "marker": {
             "colorbar": {
              "outlinewidth": 0,
              "ticks": ""
             }
            },
            "type": "scattercarpet"
           }
          ],
          "scattergeo": [
           {
            "marker": {
             "colorbar": {
              "outlinewidth": 0,
              "ticks": ""
             }
            },
            "type": "scattergeo"
           }
          ],
          "scattergl": [
           {
            "marker": {
             "colorbar": {
              "outlinewidth": 0,
              "ticks": ""
             }
            },
            "type": "scattergl"
           }
          ],
          "scattermap": [
           {
            "marker": {
             "colorbar": {
              "outlinewidth": 0,
              "ticks": ""
             }
            },
            "type": "scattermap"
           }
          ],
          "scattermapbox": [
           {
            "marker": {
             "colorbar": {
              "outlinewidth": 0,
              "ticks": ""
             }
            },
            "type": "scattermapbox"
           }
          ],
          "scatterpolar": [
           {
            "marker": {
             "colorbar": {
              "outlinewidth": 0,
              "ticks": ""
             }
            },
            "type": "scatterpolar"
           }
          ],
          "scatterpolargl": [
           {
            "marker": {
             "colorbar": {
              "outlinewidth": 0,
              "ticks": ""
             }
            },
            "type": "scatterpolargl"
           }
          ],
          "scatterternary": [
           {
            "marker": {
             "colorbar": {
              "outlinewidth": 0,
              "ticks": ""
             }
            },
            "type": "scatterternary"
           }
          ],
          "surface": [
           {
            "colorbar": {
             "outlinewidth": 0,
             "ticks": ""
            },
            "colorscale": [
             [
              0,
              "#0d0887"
             ],
             [
              0.1111111111111111,
              "#46039f"
             ],
             [
              0.2222222222222222,
              "#7201a8"
             ],
             [
              0.3333333333333333,
              "#9c179e"
             ],
             [
              0.4444444444444444,
              "#bd3786"
             ],
             [
              0.5555555555555556,
              "#d8576b"
             ],
             [
              0.6666666666666666,
              "#ed7953"
             ],
             [
              0.7777777777777778,
              "#fb9f3a"
             ],
             [
              0.8888888888888888,
              "#fdca26"
             ],
             [
              1,
              "#f0f921"
             ]
            ],
            "type": "surface"
           }
          ],
          "table": [
           {
            "cells": {
             "fill": {
              "color": "#EBF0F8"
             },
             "line": {
              "color": "white"
             }
            },
            "header": {
             "fill": {
              "color": "#C8D4E3"
             },
             "line": {
              "color": "white"
             }
            },
            "type": "table"
           }
          ]
         },
         "layout": {
          "annotationdefaults": {
           "arrowcolor": "#2a3f5f",
           "arrowhead": 0,
           "arrowwidth": 1
          },
          "autotypenumbers": "strict",
          "coloraxis": {
           "colorbar": {
            "outlinewidth": 0,
            "ticks": ""
           }
          },
          "colorscale": {
           "diverging": [
            [
             0,
             "#8e0152"
            ],
            [
             0.1,
             "#c51b7d"
            ],
            [
             0.2,
             "#de77ae"
            ],
            [
             0.3,
             "#f1b6da"
            ],
            [
             0.4,
             "#fde0ef"
            ],
            [
             0.5,
             "#f7f7f7"
            ],
            [
             0.6,
             "#e6f5d0"
            ],
            [
             0.7,
             "#b8e186"
            ],
            [
             0.8,
             "#7fbc41"
            ],
            [
             0.9,
             "#4d9221"
            ],
            [
             1,
             "#276419"
            ]
           ],
           "sequential": [
            [
             0,
             "#0d0887"
            ],
            [
             0.1111111111111111,
             "#46039f"
            ],
            [
             0.2222222222222222,
             "#7201a8"
            ],
            [
             0.3333333333333333,
             "#9c179e"
            ],
            [
             0.4444444444444444,
             "#bd3786"
            ],
            [
             0.5555555555555556,
             "#d8576b"
            ],
            [
             0.6666666666666666,
             "#ed7953"
            ],
            [
             0.7777777777777778,
             "#fb9f3a"
            ],
            [
             0.8888888888888888,
             "#fdca26"
            ],
            [
             1,
             "#f0f921"
            ]
           ],
           "sequentialminus": [
            [
             0,
             "#0d0887"
            ],
            [
             0.1111111111111111,
             "#46039f"
            ],
            [
             0.2222222222222222,
             "#7201a8"
            ],
            [
             0.3333333333333333,
             "#9c179e"
            ],
            [
             0.4444444444444444,
             "#bd3786"
            ],
            [
             0.5555555555555556,
             "#d8576b"
            ],
            [
             0.6666666666666666,
             "#ed7953"
            ],
            [
             0.7777777777777778,
             "#fb9f3a"
            ],
            [
             0.8888888888888888,
             "#fdca26"
            ],
            [
             1,
             "#f0f921"
            ]
           ]
          },
          "colorway": [
           "#636efa",
           "#EF553B",
           "#00cc96",
           "#ab63fa",
           "#FFA15A",
           "#19d3f3",
           "#FF6692",
           "#B6E880",
           "#FF97FF",
           "#FECB52"
          ],
          "font": {
           "color": "#2a3f5f"
          },
          "geo": {
           "bgcolor": "white",
           "lakecolor": "white",
           "landcolor": "#E5ECF6",
           "showlakes": true,
           "showland": true,
           "subunitcolor": "white"
          },
          "hoverlabel": {
           "align": "left"
          },
          "hovermode": "closest",
          "mapbox": {
           "style": "light"
          },
          "paper_bgcolor": "white",
          "plot_bgcolor": "#E5ECF6",
          "polar": {
           "angularaxis": {
            "gridcolor": "white",
            "linecolor": "white",
            "ticks": ""
           },
           "bgcolor": "#E5ECF6",
           "radialaxis": {
            "gridcolor": "white",
            "linecolor": "white",
            "ticks": ""
           }
          },
          "scene": {
           "xaxis": {
            "backgroundcolor": "#E5ECF6",
            "gridcolor": "white",
            "gridwidth": 2,
            "linecolor": "white",
            "showbackground": true,
            "ticks": "",
            "zerolinecolor": "white"
           },
           "yaxis": {
            "backgroundcolor": "#E5ECF6",
            "gridcolor": "white",
            "gridwidth": 2,
            "linecolor": "white",
            "showbackground": true,
            "ticks": "",
            "zerolinecolor": "white"
           },
           "zaxis": {
            "backgroundcolor": "#E5ECF6",
            "gridcolor": "white",
            "gridwidth": 2,
            "linecolor": "white",
            "showbackground": true,
            "ticks": "",
            "zerolinecolor": "white"
           }
          },
          "shapedefaults": {
           "line": {
            "color": "#2a3f5f"
           }
          },
          "ternary": {
           "aaxis": {
            "gridcolor": "white",
            "linecolor": "white",
            "ticks": ""
           },
           "baxis": {
            "gridcolor": "white",
            "linecolor": "white",
            "ticks": ""
           },
           "bgcolor": "#E5ECF6",
           "caxis": {
            "gridcolor": "white",
            "linecolor": "white",
            "ticks": ""
           }
          },
          "title": {
           "x": 0.05
          },
          "xaxis": {
           "automargin": true,
           "gridcolor": "white",
           "linecolor": "white",
           "ticks": "",
           "title": {
            "standoff": 15
           },
           "zerolinecolor": "white",
           "zerolinewidth": 2
          },
          "yaxis": {
           "automargin": true,
           "gridcolor": "white",
           "linecolor": "white",
           "ticks": "",
           "title": {
            "standoff": 15
           },
           "zerolinecolor": "white",
           "zerolinewidth": 2
          }
         }
        },
        "title": {
         "text": "Verteilung Kampfgericht"
        }
       }
      }
     },
     "metadata": {},
     "output_type": "display_data"
    }
   ],
   "source": [
    "##### show solution #####\n",
    "import plotly.express as px\n",
    "\n",
    "assignment_counts = resulting_schedule['Kampfgericht'].value_counts()\n",
    "fig = px.pie(assignment_counts, names=assignment_counts.index, values=assignment_counts.values, title='Verteilung Kampfgericht')\n",
    "fig.show()"
   ]
  }
 ],
 "metadata": {
  "kernelspec": {
   "display_name": "kampfgerichtsplaner",
   "language": "python",
   "name": "python3"
  },
  "language_info": {
   "codemirror_mode": {
    "name": "ipython",
    "version": 3
   },
   "file_extension": ".py",
   "mimetype": "text/x-python",
   "name": "python",
   "nbconvert_exporter": "python",
   "pygments_lexer": "ipython3",
   "version": "3.12.3"
  }
 },
 "nbformat": 4,
 "nbformat_minor": 5
}
